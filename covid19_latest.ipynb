{
 "cells": [
  {
   "cell_type": "code",
   "execution_count": 137,
   "metadata": {},
   "outputs": [],
   "source": [
    "import os\n",
    "import pandas as pd\n",
    "import numpy as np\n",
    "import datetime\n",
    "import seaborn as sns\n",
    "import matplotlib.pyplot as plt\n",
    "from sklearn.preprocessing import MinMaxScaler\n",
    "from tensorflow import keras\n",
    "from tensorflow.keras.models import Sequential\n",
    "from tensorflow.keras.layers import Dense,LSTM,Dropout,Bidirectional\n",
    "from tensorflow.keras.optimizers import SGD\n",
    "from tensorflow.random import set_seed"
   ]
  },
  {
   "cell_type": "code",
   "execution_count": 138,
   "metadata": {},
   "outputs": [],
   "source": [
    "CSV_PATH = \"dataset/cases_malaysia.csv\"\n",
    "df = pd.read_csv(CSV_PATH, index_col='date',parse_dates=['date'])"
   ]
  },
  {
   "cell_type": "code",
   "execution_count": 139,
   "metadata": {},
   "outputs": [
    {
     "name": "stdout",
     "output_type": "stream",
     "text": [
      "<class 'pandas.core.frame.DataFrame'>\n",
      "DatetimeIndex: 1744 entries, 2020-01-25 to 2024-11-02\n",
      "Data columns (total 30 columns):\n",
      " #   Column                   Non-Null Count  Dtype  \n",
      "---  ------                   --------------  -----  \n",
      " 0   cases_new                1744 non-null   int64  \n",
      " 1   cases_import             1744 non-null   int64  \n",
      " 2   cases_recovered          1744 non-null   int64  \n",
      " 3   cases_active             1744 non-null   int64  \n",
      " 4   cases_cluster            1744 non-null   int64  \n",
      " 5   cases_unvax              1744 non-null   int64  \n",
      " 6   cases_pvax               1744 non-null   int64  \n",
      " 7   cases_fvax               1744 non-null   int64  \n",
      " 8   cases_boost              1744 non-null   int64  \n",
      " 9   cases_child              1744 non-null   int64  \n",
      " 10  cases_adolescent         1744 non-null   int64  \n",
      " 11  cases_adult              1744 non-null   int64  \n",
      " 12  cases_elderly            1744 non-null   int64  \n",
      " 13  cases_0_4                1744 non-null   int64  \n",
      " 14  cases_5_11               1744 non-null   int64  \n",
      " 15  cases_12_17              1744 non-null   int64  \n",
      " 16  cases_18_29              1744 non-null   int64  \n",
      " 17  cases_30_39              1744 non-null   int64  \n",
      " 18  cases_40_49              1744 non-null   int64  \n",
      " 19  cases_50_59              1744 non-null   int64  \n",
      " 20  cases_60_69              1744 non-null   int64  \n",
      " 21  cases_70_79              1744 non-null   int64  \n",
      " 22  cases_80                 1744 non-null   int64  \n",
      " 23  cluster_import           1174 non-null   float64\n",
      " 24  cluster_religious        1174 non-null   float64\n",
      " 25  cluster_community        1174 non-null   float64\n",
      " 26  cluster_highRisk         1174 non-null   float64\n",
      " 27  cluster_education        1174 non-null   float64\n",
      " 28  cluster_detentionCentre  1174 non-null   float64\n",
      " 29  cluster_workplace        1174 non-null   float64\n",
      "dtypes: float64(7), int64(23)\n",
      "memory usage: 422.4 KB\n"
     ]
    }
   ],
   "source": [
    "df.head()\n",
    "df.info()"
   ]
  },
  {
   "cell_type": "code",
   "execution_count": 140,
   "metadata": {},
   "outputs": [],
   "source": [
    "# date_time = pd.to_datetime(df.pop('date'),format= \"%Y-%m-%d\")"
   ]
  },
  {
   "cell_type": "code",
   "execution_count": 141,
   "metadata": {},
   "outputs": [
    {
     "data": {
      "text/html": [
       "<div>\n",
       "<style scoped>\n",
       "    .dataframe tbody tr th:only-of-type {\n",
       "        vertical-align: middle;\n",
       "    }\n",
       "\n",
       "    .dataframe tbody tr th {\n",
       "        vertical-align: top;\n",
       "    }\n",
       "\n",
       "    .dataframe thead th {\n",
       "        text-align: right;\n",
       "    }\n",
       "</style>\n",
       "<table border=\"1\" class=\"dataframe\">\n",
       "  <thead>\n",
       "    <tr style=\"text-align: right;\">\n",
       "      <th></th>\n",
       "      <th>count</th>\n",
       "      <th>mean</th>\n",
       "      <th>std</th>\n",
       "      <th>min</th>\n",
       "      <th>25%</th>\n",
       "      <th>50%</th>\n",
       "      <th>75%</th>\n",
       "      <th>max</th>\n",
       "    </tr>\n",
       "  </thead>\n",
       "  <tbody>\n",
       "    <tr>\n",
       "      <th>cases_new</th>\n",
       "      <td>1744.0</td>\n",
       "      <td>3050.001720</td>\n",
       "      <td>5588.837322</td>\n",
       "      <td>0.0</td>\n",
       "      <td>128.75</td>\n",
       "      <td>803.0</td>\n",
       "      <td>3200.00</td>\n",
       "      <td>33406.0</td>\n",
       "    </tr>\n",
       "    <tr>\n",
       "      <th>cases_import</th>\n",
       "      <td>1744.0</td>\n",
       "      <td>22.502867</td>\n",
       "      <td>76.601202</td>\n",
       "      <td>0.0</td>\n",
       "      <td>1.00</td>\n",
       "      <td>3.0</td>\n",
       "      <td>8.00</td>\n",
       "      <td>719.0</td>\n",
       "    </tr>\n",
       "    <tr>\n",
       "      <th>cases_recovered</th>\n",
       "      <td>1744.0</td>\n",
       "      <td>3023.658257</td>\n",
       "      <td>5540.421141</td>\n",
       "      <td>0.0</td>\n",
       "      <td>117.75</td>\n",
       "      <td>796.5</td>\n",
       "      <td>3227.50</td>\n",
       "      <td>33872.0</td>\n",
       "    </tr>\n",
       "    <tr>\n",
       "      <th>cases_active</th>\n",
       "      <td>1744.0</td>\n",
       "      <td>37942.768922</td>\n",
       "      <td>61800.088695</td>\n",
       "      <td>1.0</td>\n",
       "      <td>8460.25</td>\n",
       "      <td>13839.0</td>\n",
       "      <td>36568.00</td>\n",
       "      <td>323791.0</td>\n",
       "    </tr>\n",
       "    <tr>\n",
       "      <th>cases_cluster</th>\n",
       "      <td>1744.0</td>\n",
       "      <td>306.498280</td>\n",
       "      <td>619.205875</td>\n",
       "      <td>0.0</td>\n",
       "      <td>0.00</td>\n",
       "      <td>7.0</td>\n",
       "      <td>269.25</td>\n",
       "      <td>3394.0</td>\n",
       "    </tr>\n",
       "    <tr>\n",
       "      <th>cases_unvax</th>\n",
       "      <td>1744.0</td>\n",
       "      <td>1172.648509</td>\n",
       "      <td>2339.900620</td>\n",
       "      <td>0.0</td>\n",
       "      <td>24.00</td>\n",
       "      <td>125.0</td>\n",
       "      <td>1162.75</td>\n",
       "      <td>12681.0</td>\n",
       "    </tr>\n",
       "    <tr>\n",
       "      <th>cases_pvax</th>\n",
       "      <td>1744.0</td>\n",
       "      <td>250.495413</td>\n",
       "      <td>997.565343</td>\n",
       "      <td>0.0</td>\n",
       "      <td>0.00</td>\n",
       "      <td>2.0</td>\n",
       "      <td>19.00</td>\n",
       "      <td>7315.0</td>\n",
       "    </tr>\n",
       "    <tr>\n",
       "      <th>cases_fvax</th>\n",
       "      <td>1744.0</td>\n",
       "      <td>813.951261</td>\n",
       "      <td>1935.319149</td>\n",
       "      <td>0.0</td>\n",
       "      <td>1.00</td>\n",
       "      <td>44.0</td>\n",
       "      <td>439.00</td>\n",
       "      <td>13058.0</td>\n",
       "    </tr>\n",
       "    <tr>\n",
       "      <th>cases_boost</th>\n",
       "      <td>1744.0</td>\n",
       "      <td>812.906537</td>\n",
       "      <td>2248.538349</td>\n",
       "      <td>0.0</td>\n",
       "      <td>0.00</td>\n",
       "      <td>83.0</td>\n",
       "      <td>496.25</td>\n",
       "      <td>18176.0</td>\n",
       "    </tr>\n",
       "    <tr>\n",
       "      <th>cases_child</th>\n",
       "      <td>1744.0</td>\n",
       "      <td>371.459289</td>\n",
       "      <td>772.875075</td>\n",
       "      <td>0.0</td>\n",
       "      <td>8.75</td>\n",
       "      <td>48.0</td>\n",
       "      <td>245.25</td>\n",
       "      <td>4389.0</td>\n",
       "    </tr>\n",
       "    <tr>\n",
       "      <th>cases_adolescent</th>\n",
       "      <td>1744.0</td>\n",
       "      <td>189.412271</td>\n",
       "      <td>371.093242</td>\n",
       "      <td>0.0</td>\n",
       "      <td>5.00</td>\n",
       "      <td>36.0</td>\n",
       "      <td>168.00</td>\n",
       "      <td>2177.0</td>\n",
       "    </tr>\n",
       "    <tr>\n",
       "      <th>cases_adult</th>\n",
       "      <td>1744.0</td>\n",
       "      <td>2149.451835</td>\n",
       "      <td>3915.749958</td>\n",
       "      <td>0.0</td>\n",
       "      <td>93.75</td>\n",
       "      <td>588.5</td>\n",
       "      <td>2303.00</td>\n",
       "      <td>24815.0</td>\n",
       "    </tr>\n",
       "    <tr>\n",
       "      <th>cases_elderly</th>\n",
       "      <td>1744.0</td>\n",
       "      <td>290.920872</td>\n",
       "      <td>496.374130</td>\n",
       "      <td>0.0</td>\n",
       "      <td>20.00</td>\n",
       "      <td>77.0</td>\n",
       "      <td>335.25</td>\n",
       "      <td>3348.0</td>\n",
       "    </tr>\n",
       "    <tr>\n",
       "      <th>cases_0_4</th>\n",
       "      <td>1744.0</td>\n",
       "      <td>150.692661</td>\n",
       "      <td>319.239412</td>\n",
       "      <td>0.0</td>\n",
       "      <td>3.00</td>\n",
       "      <td>18.0</td>\n",
       "      <td>102.00</td>\n",
       "      <td>1966.0</td>\n",
       "    </tr>\n",
       "    <tr>\n",
       "      <th>cases_5_11</th>\n",
       "      <td>1744.0</td>\n",
       "      <td>220.766628</td>\n",
       "      <td>457.346017</td>\n",
       "      <td>0.0</td>\n",
       "      <td>5.00</td>\n",
       "      <td>29.0</td>\n",
       "      <td>142.00</td>\n",
       "      <td>2794.0</td>\n",
       "    </tr>\n",
       "    <tr>\n",
       "      <th>cases_12_17</th>\n",
       "      <td>1744.0</td>\n",
       "      <td>189.412271</td>\n",
       "      <td>371.093242</td>\n",
       "      <td>0.0</td>\n",
       "      <td>5.00</td>\n",
       "      <td>36.0</td>\n",
       "      <td>168.00</td>\n",
       "      <td>2177.0</td>\n",
       "    </tr>\n",
       "    <tr>\n",
       "      <th>cases_18_29</th>\n",
       "      <td>1744.0</td>\n",
       "      <td>789.663417</td>\n",
       "      <td>1469.890617</td>\n",
       "      <td>0.0</td>\n",
       "      <td>29.00</td>\n",
       "      <td>196.5</td>\n",
       "      <td>833.25</td>\n",
       "      <td>9184.0</td>\n",
       "    </tr>\n",
       "    <tr>\n",
       "      <th>cases_30_39</th>\n",
       "      <td>1744.0</td>\n",
       "      <td>683.807913</td>\n",
       "      <td>1228.023117</td>\n",
       "      <td>0.0</td>\n",
       "      <td>31.00</td>\n",
       "      <td>199.5</td>\n",
       "      <td>744.50</td>\n",
       "      <td>8120.0</td>\n",
       "    </tr>\n",
       "    <tr>\n",
       "      <th>cases_40_49</th>\n",
       "      <td>1744.0</td>\n",
       "      <td>407.988532</td>\n",
       "      <td>736.685085</td>\n",
       "      <td>0.0</td>\n",
       "      <td>19.00</td>\n",
       "      <td>114.0</td>\n",
       "      <td>433.25</td>\n",
       "      <td>4610.0</td>\n",
       "    </tr>\n",
       "    <tr>\n",
       "      <th>cases_50_59</th>\n",
       "      <td>1744.0</td>\n",
       "      <td>267.991972</td>\n",
       "      <td>490.366601</td>\n",
       "      <td>0.0</td>\n",
       "      <td>10.00</td>\n",
       "      <td>64.0</td>\n",
       "      <td>275.25</td>\n",
       "      <td>3082.0</td>\n",
       "    </tr>\n",
       "    <tr>\n",
       "      <th>cases_60_69</th>\n",
       "      <td>1744.0</td>\n",
       "      <td>171.413991</td>\n",
       "      <td>311.671526</td>\n",
       "      <td>0.0</td>\n",
       "      <td>6.00</td>\n",
       "      <td>39.0</td>\n",
       "      <td>172.75</td>\n",
       "      <td>2060.0</td>\n",
       "    </tr>\n",
       "    <tr>\n",
       "      <th>cases_70_79</th>\n",
       "      <td>1744.0</td>\n",
       "      <td>78.603211</td>\n",
       "      <td>136.296569</td>\n",
       "      <td>0.0</td>\n",
       "      <td>4.00</td>\n",
       "      <td>20.0</td>\n",
       "      <td>91.00</td>\n",
       "      <td>927.0</td>\n",
       "    </tr>\n",
       "    <tr>\n",
       "      <th>cases_80</th>\n",
       "      <td>1744.0</td>\n",
       "      <td>40.902523</td>\n",
       "      <td>55.342761</td>\n",
       "      <td>0.0</td>\n",
       "      <td>6.00</td>\n",
       "      <td>19.0</td>\n",
       "      <td>54.25</td>\n",
       "      <td>361.0</td>\n",
       "    </tr>\n",
       "    <tr>\n",
       "      <th>cluster_import</th>\n",
       "      <td>1174.0</td>\n",
       "      <td>0.252981</td>\n",
       "      <td>2.273661</td>\n",
       "      <td>0.0</td>\n",
       "      <td>0.00</td>\n",
       "      <td>0.0</td>\n",
       "      <td>0.00</td>\n",
       "      <td>54.0</td>\n",
       "    </tr>\n",
       "    <tr>\n",
       "      <th>cluster_religious</th>\n",
       "      <td>1174.0</td>\n",
       "      <td>7.410562</td>\n",
       "      <td>33.259912</td>\n",
       "      <td>0.0</td>\n",
       "      <td>0.00</td>\n",
       "      <td>0.0</td>\n",
       "      <td>0.00</td>\n",
       "      <td>359.0</td>\n",
       "    </tr>\n",
       "    <tr>\n",
       "      <th>cluster_community</th>\n",
       "      <td>1174.0</td>\n",
       "      <td>62.598807</td>\n",
       "      <td>140.302383</td>\n",
       "      <td>0.0</td>\n",
       "      <td>0.00</td>\n",
       "      <td>0.0</td>\n",
       "      <td>34.75</td>\n",
       "      <td>825.0</td>\n",
       "    </tr>\n",
       "    <tr>\n",
       "      <th>cluster_highRisk</th>\n",
       "      <td>1174.0</td>\n",
       "      <td>11.992334</td>\n",
       "      <td>23.103513</td>\n",
       "      <td>0.0</td>\n",
       "      <td>0.00</td>\n",
       "      <td>1.0</td>\n",
       "      <td>13.00</td>\n",
       "      <td>189.0</td>\n",
       "    </tr>\n",
       "    <tr>\n",
       "      <th>cluster_education</th>\n",
       "      <td>1174.0</td>\n",
       "      <td>36.117547</td>\n",
       "      <td>90.481170</td>\n",
       "      <td>0.0</td>\n",
       "      <td>0.00</td>\n",
       "      <td>2.0</td>\n",
       "      <td>25.00</td>\n",
       "      <td>920.0</td>\n",
       "    </tr>\n",
       "    <tr>\n",
       "      <th>cluster_detentionCentre</th>\n",
       "      <td>1174.0</td>\n",
       "      <td>20.367121</td>\n",
       "      <td>51.370516</td>\n",
       "      <td>0.0</td>\n",
       "      <td>0.00</td>\n",
       "      <td>0.0</td>\n",
       "      <td>6.00</td>\n",
       "      <td>439.0</td>\n",
       "    </tr>\n",
       "    <tr>\n",
       "      <th>cluster_workplace</th>\n",
       "      <td>1174.0</td>\n",
       "      <td>201.829642</td>\n",
       "      <td>398.870654</td>\n",
       "      <td>0.0</td>\n",
       "      <td>0.00</td>\n",
       "      <td>0.0</td>\n",
       "      <td>155.75</td>\n",
       "      <td>2338.0</td>\n",
       "    </tr>\n",
       "  </tbody>\n",
       "</table>\n",
       "</div>"
      ],
      "text/plain": [
       "                          count          mean           std  min      25%  \\\n",
       "cases_new                1744.0   3050.001720   5588.837322  0.0   128.75   \n",
       "cases_import             1744.0     22.502867     76.601202  0.0     1.00   \n",
       "cases_recovered          1744.0   3023.658257   5540.421141  0.0   117.75   \n",
       "cases_active             1744.0  37942.768922  61800.088695  1.0  8460.25   \n",
       "cases_cluster            1744.0    306.498280    619.205875  0.0     0.00   \n",
       "cases_unvax              1744.0   1172.648509   2339.900620  0.0    24.00   \n",
       "cases_pvax               1744.0    250.495413    997.565343  0.0     0.00   \n",
       "cases_fvax               1744.0    813.951261   1935.319149  0.0     1.00   \n",
       "cases_boost              1744.0    812.906537   2248.538349  0.0     0.00   \n",
       "cases_child              1744.0    371.459289    772.875075  0.0     8.75   \n",
       "cases_adolescent         1744.0    189.412271    371.093242  0.0     5.00   \n",
       "cases_adult              1744.0   2149.451835   3915.749958  0.0    93.75   \n",
       "cases_elderly            1744.0    290.920872    496.374130  0.0    20.00   \n",
       "cases_0_4                1744.0    150.692661    319.239412  0.0     3.00   \n",
       "cases_5_11               1744.0    220.766628    457.346017  0.0     5.00   \n",
       "cases_12_17              1744.0    189.412271    371.093242  0.0     5.00   \n",
       "cases_18_29              1744.0    789.663417   1469.890617  0.0    29.00   \n",
       "cases_30_39              1744.0    683.807913   1228.023117  0.0    31.00   \n",
       "cases_40_49              1744.0    407.988532    736.685085  0.0    19.00   \n",
       "cases_50_59              1744.0    267.991972    490.366601  0.0    10.00   \n",
       "cases_60_69              1744.0    171.413991    311.671526  0.0     6.00   \n",
       "cases_70_79              1744.0     78.603211    136.296569  0.0     4.00   \n",
       "cases_80                 1744.0     40.902523     55.342761  0.0     6.00   \n",
       "cluster_import           1174.0      0.252981      2.273661  0.0     0.00   \n",
       "cluster_religious        1174.0      7.410562     33.259912  0.0     0.00   \n",
       "cluster_community        1174.0     62.598807    140.302383  0.0     0.00   \n",
       "cluster_highRisk         1174.0     11.992334     23.103513  0.0     0.00   \n",
       "cluster_education        1174.0     36.117547     90.481170  0.0     0.00   \n",
       "cluster_detentionCentre  1174.0     20.367121     51.370516  0.0     0.00   \n",
       "cluster_workplace        1174.0    201.829642    398.870654  0.0     0.00   \n",
       "\n",
       "                             50%       75%       max  \n",
       "cases_new                  803.0   3200.00   33406.0  \n",
       "cases_import                 3.0      8.00     719.0  \n",
       "cases_recovered            796.5   3227.50   33872.0  \n",
       "cases_active             13839.0  36568.00  323791.0  \n",
       "cases_cluster                7.0    269.25    3394.0  \n",
       "cases_unvax                125.0   1162.75   12681.0  \n",
       "cases_pvax                   2.0     19.00    7315.0  \n",
       "cases_fvax                  44.0    439.00   13058.0  \n",
       "cases_boost                 83.0    496.25   18176.0  \n",
       "cases_child                 48.0    245.25    4389.0  \n",
       "cases_adolescent            36.0    168.00    2177.0  \n",
       "cases_adult                588.5   2303.00   24815.0  \n",
       "cases_elderly               77.0    335.25    3348.0  \n",
       "cases_0_4                   18.0    102.00    1966.0  \n",
       "cases_5_11                  29.0    142.00    2794.0  \n",
       "cases_12_17                 36.0    168.00    2177.0  \n",
       "cases_18_29                196.5    833.25    9184.0  \n",
       "cases_30_39                199.5    744.50    8120.0  \n",
       "cases_40_49                114.0    433.25    4610.0  \n",
       "cases_50_59                 64.0    275.25    3082.0  \n",
       "cases_60_69                 39.0    172.75    2060.0  \n",
       "cases_70_79                 20.0     91.00     927.0  \n",
       "cases_80                    19.0     54.25     361.0  \n",
       "cluster_import               0.0      0.00      54.0  \n",
       "cluster_religious            0.0      0.00     359.0  \n",
       "cluster_community            0.0     34.75     825.0  \n",
       "cluster_highRisk             1.0     13.00     189.0  \n",
       "cluster_education            2.0     25.00     920.0  \n",
       "cluster_detentionCentre      0.0      6.00     439.0  \n",
       "cluster_workplace            0.0    155.75    2338.0  "
      ]
     },
     "execution_count": 141,
     "metadata": {},
     "output_type": "execute_result"
    }
   ],
   "source": [
    "df.describe().transpose()"
   ]
  },
  {
   "cell_type": "code",
   "execution_count": 142,
   "metadata": {},
   "outputs": [
    {
     "data": {
      "text/plain": [
       "10"
      ]
     },
     "execution_count": 142,
     "metadata": {},
     "output_type": "execute_result"
    }
   ],
   "source": [
    "#To check duplicates\n",
    "df.duplicated().sum()"
   ]
  },
  {
   "cell_type": "code",
   "execution_count": 143,
   "metadata": {},
   "outputs": [
    {
     "data": {
      "text/plain": [
       "0"
      ]
     },
     "execution_count": 143,
     "metadata": {},
     "output_type": "execute_result"
    }
   ],
   "source": [
    "#To drop the duplicates\n",
    "df = df.drop_duplicates()\n",
    "df.duplicated().sum()"
   ]
  },
  {
   "cell_type": "code",
   "execution_count": 144,
   "metadata": {},
   "outputs": [],
   "source": [
    "df['cases_new'] = pd.to_numeric(df['cases_new'],errors='coerce') "
   ]
  },
  {
   "cell_type": "code",
   "execution_count": 145,
   "metadata": {},
   "outputs": [],
   "source": [
    "#Fill in\n",
    "\n",
    "df['cases_new'] = df['cases_new'].fillna(df['cases_new'].fillna(0))\n",
    "df['cluster_import'] = df['cases_new'].fillna(df['cluster_import'].fillna(0))\n",
    "df['cluster_religious'] = df['cases_new'].fillna(df['cluster_religious'].fillna(0))\n",
    "df['cluster_community'] = df['cases_new'].fillna(df['cluster_community'].fillna(0))\n",
    "df['cluster_highRisk'] = df['cases_new'].fillna(df['cluster_highRisk'].fillna(0))\n",
    "df['cluster_education'] = df['cases_new'].fillna(df['cluster_education'].fillna(0))\n",
    "df['cluster_detentionCentre'] = df['cases_new'].fillna(df['cluster_detentionCentre'].fillna(0))\n",
    "df['cluster_workplace'] = df['cases_new'].fillna(df['cluster_workplace'].fillna(0))"
   ]
  },
  {
   "cell_type": "code",
   "execution_count": 146,
   "metadata": {},
   "outputs": [
    {
     "data": {
      "text/plain": [
       "cases_new                  0\n",
       "cases_import               0\n",
       "cases_recovered            0\n",
       "cases_active               0\n",
       "cases_cluster              0\n",
       "cases_unvax                0\n",
       "cases_pvax                 0\n",
       "cases_fvax                 0\n",
       "cases_boost                0\n",
       "cases_child                0\n",
       "cases_adolescent           0\n",
       "cases_adult                0\n",
       "cases_elderly              0\n",
       "cases_0_4                  0\n",
       "cases_5_11                 0\n",
       "cases_12_17                0\n",
       "cases_18_29                0\n",
       "cases_30_39                0\n",
       "cases_40_49                0\n",
       "cases_50_59                0\n",
       "cases_60_69                0\n",
       "cases_70_79                0\n",
       "cases_80                   0\n",
       "cluster_import             0\n",
       "cluster_religious          0\n",
       "cluster_community          0\n",
       "cluster_highRisk           0\n",
       "cluster_education          0\n",
       "cluster_detentionCentre    0\n",
       "cluster_workplace          0\n",
       "dtype: int64"
      ]
     },
     "execution_count": 146,
     "metadata": {},
     "output_type": "execute_result"
    }
   ],
   "source": [
    "df.isna().sum()"
   ]
  },
  {
   "cell_type": "code",
   "execution_count": 147,
   "metadata": {},
   "outputs": [
    {
     "data": {
      "text/plain": [
       "<Axes: >"
      ]
     },
     "execution_count": 147,
     "metadata": {},
     "output_type": "execute_result"
    }
   ],
   "source": [
    "df.boxplot(rot=90)"
   ]
  },
  {
   "cell_type": "code",
   "execution_count": 148,
   "metadata": {},
   "outputs": [
    {
     "data": {
      "image/png": "[encoded data removed]",
      "text/plain": [
       "<Figure size 1600x400 with 1 Axes>"
      ]
     },
     "metadata": {},
     "output_type": "display_data"
    }
   ],
   "source": [
    "tstart = 2020\n",
    "tend = 2022\n",
    "\n",
    "def train_test_plot(df,tstart,tend):\n",
    "    df.loc[f'{tstart}':f'{tend}','cases_new'].plot(figsize=(16,4),label=f\"Train (Before {tend+1})\")\n",
    "    df.loc[f'{tend+1}':, 'cases_new'].plot(figsize=(16,4),label=f\"Test ({tend+1} and beyond)\")\n",
    "    plt.legend()\n",
    "    plt.title('Covid-19 cases')\n",
    "    plt.show()\n",
    "\n",
    "train_test_plot(df,tstart,tend)"
   ]
  },
  {
   "cell_type": "code",
   "execution_count": 149,
   "metadata": {},
   "outputs": [],
   "source": [
    "def train_test_split(dataset,tstart,tend):\n",
    "    train = dataset.loc[f\"{tstart}\":f\"{tend}\",\"cases_new\"].values\n",
    "    test = dataset.loc[f\"{tend+1}\":,\"cases_new\"].values\n",
    "    return train,test\n",
    "\n",
    "training_set,test_set = train_test_split(df,tstart,tend)"
   ]
  },
  {
   "cell_type": "code",
   "execution_count": 150,
   "metadata": {},
   "outputs": [
    {
     "name": "stdout",
     "output_type": "stream",
     "text": [
      "[[1.19738969e-04]\n",
      " [0.00000000e+00]\n",
      " [8.98042268e-05]\n",
      " [2.99347423e-05]\n",
      " [0.00000000e+00]]\n"
     ]
    }
   ],
   "source": [
    "sc = MinMaxScaler(feature_range=(0,1))\n",
    "training_set = training_set.reshape(-1,1)\n",
    "training_set_scaled = sc.fit_transform(training_set)\n",
    "# print(type(training_set_scaled))\n",
    "# print(training_set_scaled.shape)\n",
    "print(training_set_scaled[:5])"
   ]
  },
  {
   "cell_type": "code",
   "execution_count": 151,
   "metadata": {},
   "outputs": [],
   "source": [
    "# arr = np.array([1,2,3,4,5,6])\n",
    "# print(arr.shape)\n",
    "\n",
    "# print(arr.reshape(3,-1).shape)"
   ]
  },
  {
   "cell_type": "code",
   "execution_count": 152,
   "metadata": {},
   "outputs": [],
   "source": [
    "def split_sequence(sequence,n_steps):\n",
    "    X,y = list(),list()\n",
    "    for i in range(len(sequence)):\n",
    "        end_ix = i + n_steps\n",
    "        if end_ix > len(sequence) - 1:\n",
    "            break\n",
    "        seq_x,seq_y = sequence[i:end_ix],sequence[end_ix]\n",
    "        X.append(seq_x)\n",
    "        y.append(seq_y)\n",
    "    return np.array(X),np.array(y)\n",
    "\n",
    "n_steps = 30\n",
    "features = 1\n",
    "# split into samples\n",
    "X_train,y_train = split_sequence(training_set_scaled,n_steps)"
   ]
  },
  {
   "cell_type": "code",
   "execution_count": 153,
   "metadata": {},
   "outputs": [
    {
     "name": "stdout",
     "output_type": "stream",
     "text": [
      "(1032, 30, 1)\n"
     ]
    }
   ],
   "source": [
    "# Reshape X_train for model\n",
    "X_train = X_train.reshape(X_train.shape[0],X_train.shape[1],features)\n",
    "print(X_train.shape)"
   ]
  },
  {
   "cell_type": "code",
   "execution_count": 154,
   "metadata": {},
   "outputs": [
    {
     "name": "stderr",
     "output_type": "stream",
     "text": [
      "c:\\AiClassLatest\\envs\\tensorflow_cpu\\Lib\\site-packages\\keras\\src\\layers\\rnn\\rnn.py:204: UserWarning: Do not pass an `input_shape`/`input_dim` argument to a layer. When using Sequential models, prefer using an `Input(shape)` object as the first layer in the model instead.\n",
      "  super().__init__(**kwargs)\n"
     ]
    },
    {
     "data": {
      "text/html": [
       "<pre style=\"white-space:pre;overflow-x:auto;line-height:normal;font-family:Menlo,'DejaVu Sans Mono',consolas,'Courier New',monospace\"><span style=\"font-weight: bold\">Model: \"sequential_5\"</span>\n",
       "</pre>\n"
      ],
      "text/plain": [
       "\u001b[1mModel: \"sequential_5\"\u001b[0m\n"
      ]
     },
     "metadata": {},
     "output_type": "display_data"
    },
    {
     "data": {
      "text/html": [
       "<pre style=\"white-space:pre;overflow-x:auto;line-height:normal;font-family:Menlo,'DejaVu Sans Mono',consolas,'Courier New',monospace\">┏━━━━━━━━━━━━━━━━━━━━━━━━━━━━━━━━━┳━━━━━━━━━━━━━━━━━━━━━━━━┳━━━━━━━━━━━━━━━┓\n",
       "┃<span style=\"font-weight: bold\"> Layer (type)                    </span>┃<span style=\"font-weight: bold\"> Output Shape           </span>┃<span style=\"font-weight: bold\">       Param # </span>┃\n",
       "┡━━━━━━━━━━━━━━━━━━━━━━━━━━━━━━━━━╇━━━━━━━━━━━━━━━━━━━━━━━━╇━━━━━━━━━━━━━━━┩\n",
       "│ lstm_10 (<span style=\"color: #0087ff; text-decoration-color: #0087ff\">LSTM</span>)                  │ (<span style=\"color: #00d7ff; text-decoration-color: #00d7ff\">None</span>, <span style=\"color: #00af00; text-decoration-color: #00af00\">30</span>, <span style=\"color: #00af00; text-decoration-color: #00af00\">32</span>)         │         <span style=\"color: #00af00; text-decoration-color: #00af00\">4,352</span> │\n",
       "├─────────────────────────────────┼────────────────────────┼───────────────┤\n",
       "│ dropout_5 (<span style=\"color: #0087ff; text-decoration-color: #0087ff\">Dropout</span>)             │ (<span style=\"color: #00d7ff; text-decoration-color: #00d7ff\">None</span>, <span style=\"color: #00af00; text-decoration-color: #00af00\">30</span>, <span style=\"color: #00af00; text-decoration-color: #00af00\">32</span>)         │             <span style=\"color: #00af00; text-decoration-color: #00af00\">0</span> │\n",
       "├─────────────────────────────────┼────────────────────────┼───────────────┤\n",
       "│ lstm_11 (<span style=\"color: #0087ff; text-decoration-color: #0087ff\">LSTM</span>)                  │ (<span style=\"color: #00d7ff; text-decoration-color: #00d7ff\">None</span>, <span style=\"color: #00af00; text-decoration-color: #00af00\">64</span>)             │        <span style=\"color: #00af00; text-decoration-color: #00af00\">24,832</span> │\n",
       "├─────────────────────────────────┼────────────────────────┼───────────────┤\n",
       "│ dense_5 (<span style=\"color: #0087ff; text-decoration-color: #0087ff\">Dense</span>)                 │ (<span style=\"color: #00d7ff; text-decoration-color: #00d7ff\">None</span>, <span style=\"color: #00af00; text-decoration-color: #00af00\">1</span>)              │            <span style=\"color: #00af00; text-decoration-color: #00af00\">65</span> │\n",
       "└─────────────────────────────────┴────────────────────────┴───────────────┘\n",
       "</pre>\n"
      ],
      "text/plain": [
       "┏━━━━━━━━━━━━━━━━━━━━━━━━━━━━━━━━━┳━━━━━━━━━━━━━━━━━━━━━━━━┳━━━━━━━━━━━━━━━┓\n",
       "┃\u001b[1m \u001b[0m\u001b[1mLayer (type)                   \u001b[0m\u001b[1m \u001b[0m┃\u001b[1m \u001b[0m\u001b[1mOutput Shape          \u001b[0m\u001b[1m \u001b[0m┃\u001b[1m \u001b[0m\u001b[1m      Param #\u001b[0m\u001b[1m \u001b[0m┃\n",
       "┡━━━━━━━━━━━━━━━━━━━━━━━━━━━━━━━━━╇━━━━━━━━━━━━━━━━━━━━━━━━╇━━━━━━━━━━━━━━━┩\n",
       "│ lstm_10 (\u001b[38;5;33mLSTM\u001b[0m)                  │ (\u001b[38;5;45mNone\u001b[0m, \u001b[38;5;34m30\u001b[0m, \u001b[38;5;34m32\u001b[0m)         │         \u001b[38;5;34m4,352\u001b[0m │\n",
       "├─────────────────────────────────┼────────────────────────┼───────────────┤\n",
       "│ dropout_5 (\u001b[38;5;33mDropout\u001b[0m)             │ (\u001b[38;5;45mNone\u001b[0m, \u001b[38;5;34m30\u001b[0m, \u001b[38;5;34m32\u001b[0m)         │             \u001b[38;5;34m0\u001b[0m │\n",
       "├─────────────────────────────────┼────────────────────────┼───────────────┤\n",
       "│ lstm_11 (\u001b[38;5;33mLSTM\u001b[0m)                  │ (\u001b[38;5;45mNone\u001b[0m, \u001b[38;5;34m64\u001b[0m)             │        \u001b[38;5;34m24,832\u001b[0m │\n",
       "├─────────────────────────────────┼────────────────────────┼───────────────┤\n",
       "│ dense_5 (\u001b[38;5;33mDense\u001b[0m)                 │ (\u001b[38;5;45mNone\u001b[0m, \u001b[38;5;34m1\u001b[0m)              │            \u001b[38;5;34m65\u001b[0m │\n",
       "└─────────────────────────────────┴────────────────────────┴───────────────┘\n"
      ]
     },
     "metadata": {},
     "output_type": "display_data"
    },
    {
     "data": {
      "text/html": [
       "<pre style=\"white-space:pre;overflow-x:auto;line-height:normal;font-family:Menlo,'DejaVu Sans Mono',consolas,'Courier New',monospace\"><span style=\"font-weight: bold\"> Total params: </span><span style=\"color: #00af00; text-decoration-color: #00af00\">29,249</span> (114.25 KB)\n",
       "</pre>\n"
      ],
      "text/plain": [
       "\u001b[1m Total params: \u001b[0m\u001b[38;5;34m29,249\u001b[0m (114.25 KB)\n"
      ]
     },
     "metadata": {},
     "output_type": "display_data"
    },
    {
     "data": {
      "text/html": [
       "<pre style=\"white-space:pre;overflow-x:auto;line-height:normal;font-family:Menlo,'DejaVu Sans Mono',consolas,'Courier New',monospace\"><span style=\"font-weight: bold\"> Trainable params: </span><span style=\"color: #00af00; text-decoration-color: #00af00\">29,249</span> (114.25 KB)\n",
       "</pre>\n"
      ],
      "text/plain": [
       "\u001b[1m Trainable params: \u001b[0m\u001b[38;5;34m29,249\u001b[0m (114.25 KB)\n"
      ]
     },
     "metadata": {},
     "output_type": "display_data"
    },
    {
     "data": {
      "text/html": [
       "<pre style=\"white-space:pre;overflow-x:auto;line-height:normal;font-family:Menlo,'DejaVu Sans Mono',consolas,'Courier New',monospace\"><span style=\"font-weight: bold\"> Non-trainable params: </span><span style=\"color: #00af00; text-decoration-color: #00af00\">0</span> (0.00 B)\n",
       "</pre>\n"
      ],
      "text/plain": [
       "\u001b[1m Non-trainable params: \u001b[0m\u001b[38;5;34m0\u001b[0m (0.00 B)\n"
      ]
     },
     "metadata": {},
     "output_type": "display_data"
    },
    {
     "name": "stdout",
     "output_type": "stream",
     "text": [
      "None\n"
     ]
    }
   ],
   "source": [
    "# The LSTM Architecture\n",
    "model_lstm = Sequential()\n",
    "model_lstm.add(LSTM(units=32,activation='tanh',input_shape=(n_steps,features),return_sequences=True))\n",
    "model_lstm.add(Dropout(0.1))\n",
    "model_lstm.add(LSTM(units=64)) #LSTM layer\n",
    "model_lstm.add(Dense(units=1)) #Output\n",
    "# Compiling the model\n",
    "model_lstm.compile(optimizer='adam', loss='mse', metrics=['mae'])\n",
    "print(model_lstm.summary())\n"
   ]
  },
  {
   "cell_type": "code",
   "execution_count": 155,
   "metadata": {},
   "outputs": [
    {
     "name": "stdout",
     "output_type": "stream",
     "text": [
      "Epoch 1/50\n",
      "\u001b[1m33/33\u001b[0m \u001b[32m━━━━━━━━━━━━━━━━━━━━\u001b[0m\u001b[37m\u001b[0m \u001b[1m8s\u001b[0m 17ms/step - loss: 0.0195 - mae: 0.0819\n",
      "Epoch 2/50\n"
     ]
    },
    {
     "name": "stderr",
     "output_type": "stream",
     "text": [
      "c:\\AiClassLatest\\envs\\tensorflow_cpu\\Lib\\site-packages\\keras\\src\\callbacks\\early_stopping.py:155: UserWarning: Early stopping conditioned on metric `val_loss` which is not available. Available metrics are: loss,mae\n",
      "  current = self.get_monitor_value(logs)\n"
     ]
    },
    {
     "name": "stdout",
     "output_type": "stream",
     "text": [
      "\u001b[1m33/33\u001b[0m \u001b[32m━━━━━━━━━━━━━━━━━━━━\u001b[0m\u001b[37m\u001b[0m \u001b[1m1s\u001b[0m 14ms/step - loss: 0.0024 - mae: 0.0279\n",
      "Epoch 3/50\n",
      "\u001b[1m33/33\u001b[0m \u001b[32m━━━━━━━━━━━━━━━━━━━━\u001b[0m\u001b[37m\u001b[0m \u001b[1m1s\u001b[0m 16ms/step - loss: 0.0017 - mae: 0.0224\n",
      "Epoch 4/50\n",
      "\u001b[1m33/33\u001b[0m \u001b[32m━━━━━━━━━━━━━━━━━━━━\u001b[0m\u001b[37m\u001b[0m \u001b[1m1s\u001b[0m 20ms/step - loss: 0.0024 - mae: 0.0279\n",
      "Epoch 5/50\n",
      "\u001b[1m33/33\u001b[0m \u001b[32m━━━━━━━━━━━━━━━━━━━━\u001b[0m\u001b[37m\u001b[0m \u001b[1m1s\u001b[0m 17ms/step - loss: 0.0018 - mae: 0.0217\n",
      "Epoch 6/50\n",
      "\u001b[1m33/33\u001b[0m \u001b[32m━━━━━━━━━━━━━━━━━━━━\u001b[0m\u001b[37m\u001b[0m \u001b[1m1s\u001b[0m 14ms/step - loss: 0.0018 - mae: 0.0230\n",
      "Epoch 7/50\n",
      "\u001b[1m33/33\u001b[0m \u001b[32m━━━━━━━━━━━━━━━━━━━━\u001b[0m\u001b[37m\u001b[0m \u001b[1m1s\u001b[0m 16ms/step - loss: 0.0014 - mae: 0.0233\n",
      "Epoch 8/50\n",
      "\u001b[1m33/33\u001b[0m \u001b[32m━━━━━━━━━━━━━━━━━━━━\u001b[0m\u001b[37m\u001b[0m \u001b[1m1s\u001b[0m 16ms/step - loss: 0.0015 - mae: 0.0233\n",
      "Epoch 9/50\n",
      "\u001b[1m33/33\u001b[0m \u001b[32m━━━━━━━━━━━━━━━━━━━━\u001b[0m\u001b[37m\u001b[0m \u001b[1m0s\u001b[0m 12ms/step - loss: 0.0016 - mae: 0.0218\n",
      "Epoch 10/50\n",
      "\u001b[1m33/33\u001b[0m \u001b[32m━━━━━━━━━━━━━━━━━━━━\u001b[0m\u001b[37m\u001b[0m \u001b[1m0s\u001b[0m 15ms/step - loss: 0.0016 - mae: 0.0218\n",
      "Epoch 11/50\n",
      "\u001b[1m33/33\u001b[0m \u001b[32m━━━━━━━━━━━━━━━━━━━━\u001b[0m\u001b[37m\u001b[0m \u001b[1m0s\u001b[0m 13ms/step - loss: 0.0014 - mae: 0.0216\n",
      "Epoch 12/50\n",
      "\u001b[1m33/33\u001b[0m \u001b[32m━━━━━━━━━━━━━━━━━━━━\u001b[0m\u001b[37m\u001b[0m \u001b[1m0s\u001b[0m 13ms/step - loss: 0.0018 - mae: 0.0232\n",
      "Epoch 13/50\n",
      "\u001b[1m33/33\u001b[0m \u001b[32m━━━━━━━━━━━━━━━━━━━━\u001b[0m\u001b[37m\u001b[0m \u001b[1m0s\u001b[0m 13ms/step - loss: 0.0013 - mae: 0.0200\n",
      "Epoch 14/50\n",
      "\u001b[1m33/33\u001b[0m \u001b[32m━━━━━━━━━━━━━━━━━━━━\u001b[0m\u001b[37m\u001b[0m \u001b[1m1s\u001b[0m 15ms/step - loss: 0.0015 - mae: 0.0210\n",
      "Epoch 15/50\n",
      "\u001b[1m33/33\u001b[0m \u001b[32m━━━━━━━━━━━━━━━━━━━━\u001b[0m\u001b[37m\u001b[0m \u001b[1m1s\u001b[0m 15ms/step - loss: 0.0015 - mae: 0.0213\n",
      "Epoch 16/50\n",
      "\u001b[1m33/33\u001b[0m \u001b[32m━━━━━━━━━━━━━━━━━━━━\u001b[0m\u001b[37m\u001b[0m \u001b[1m0s\u001b[0m 14ms/step - loss: 0.0014 - mae: 0.0215\n",
      "Epoch 17/50\n",
      "\u001b[1m33/33\u001b[0m \u001b[32m━━━━━━━━━━━━━━━━━━━━\u001b[0m\u001b[37m\u001b[0m \u001b[1m0s\u001b[0m 14ms/step - loss: 0.0012 - mae: 0.0196\n",
      "Epoch 18/50\n",
      "\u001b[1m33/33\u001b[0m \u001b[32m━━━━━━━━━━━━━━━━━━━━\u001b[0m\u001b[37m\u001b[0m \u001b[1m1s\u001b[0m 15ms/step - loss: 0.0012 - mae: 0.0196\n",
      "Epoch 19/50\n",
      "\u001b[1m33/33\u001b[0m \u001b[32m━━━━━━━━━━━━━━━━━━━━\u001b[0m\u001b[37m\u001b[0m \u001b[1m0s\u001b[0m 13ms/step - loss: 0.0015 - mae: 0.0214\n",
      "Epoch 20/50\n",
      "\u001b[1m33/33\u001b[0m \u001b[32m━━━━━━━━━━━━━━━━━━━━\u001b[0m\u001b[37m\u001b[0m \u001b[1m0s\u001b[0m 14ms/step - loss: 0.0011 - mae: 0.0195\n",
      "Epoch 21/50\n",
      "\u001b[1m33/33\u001b[0m \u001b[32m━━━━━━━━━━━━━━━━━━━━\u001b[0m\u001b[37m\u001b[0m \u001b[1m0s\u001b[0m 13ms/step - loss: 0.0016 - mae: 0.0223\n",
      "Epoch 22/50\n",
      "\u001b[1m33/33\u001b[0m \u001b[32m━━━━━━━━━━━━━━━━━━━━\u001b[0m\u001b[37m\u001b[0m \u001b[1m0s\u001b[0m 14ms/step - loss: 0.0014 - mae: 0.0213\n",
      "Epoch 23/50\n",
      "\u001b[1m33/33\u001b[0m \u001b[32m━━━━━━━━━━━━━━━━━━━━\u001b[0m\u001b[37m\u001b[0m \u001b[1m0s\u001b[0m 14ms/step - loss: 0.0015 - mae: 0.0226\n",
      "Epoch 24/50\n",
      "\u001b[1m33/33\u001b[0m \u001b[32m━━━━━━━━━━━━━━━━━━━━\u001b[0m\u001b[37m\u001b[0m \u001b[1m1s\u001b[0m 15ms/step - loss: 0.0013 - mae: 0.0218\n",
      "Epoch 25/50\n",
      "\u001b[1m33/33\u001b[0m \u001b[32m━━━━━━━━━━━━━━━━━━━━\u001b[0m\u001b[37m\u001b[0m \u001b[1m0s\u001b[0m 14ms/step - loss: 0.0015 - mae: 0.0217\n",
      "Epoch 26/50\n",
      "\u001b[1m33/33\u001b[0m \u001b[32m━━━━━━━━━━━━━━━━━━━━\u001b[0m\u001b[37m\u001b[0m \u001b[1m1s\u001b[0m 17ms/step - loss: 0.0012 - mae: 0.0206\n",
      "Epoch 27/50\n",
      "\u001b[1m33/33\u001b[0m \u001b[32m━━━━━━━━━━━━━━━━━━━━\u001b[0m\u001b[37m\u001b[0m \u001b[1m0s\u001b[0m 14ms/step - loss: 0.0012 - mae: 0.0207\n",
      "Epoch 28/50\n",
      "\u001b[1m33/33\u001b[0m \u001b[32m━━━━━━━━━━━━━━━━━━━━\u001b[0m\u001b[37m\u001b[0m \u001b[1m0s\u001b[0m 13ms/step - loss: 0.0012 - mae: 0.0211\n",
      "Epoch 29/50\n",
      "\u001b[1m33/33\u001b[0m \u001b[32m━━━━━━━━━━━━━━━━━━━━\u001b[0m\u001b[37m\u001b[0m \u001b[1m1s\u001b[0m 16ms/step - loss: 0.0012 - mae: 0.0196\n",
      "Epoch 30/50\n",
      "\u001b[1m33/33\u001b[0m \u001b[32m━━━━━━━━━━━━━━━━━━━━\u001b[0m\u001b[37m\u001b[0m \u001b[1m0s\u001b[0m 13ms/step - loss: 0.0013 - mae: 0.0200\n",
      "Epoch 31/50\n",
      "\u001b[1m33/33\u001b[0m \u001b[32m━━━━━━━━━━━━━━━━━━━━\u001b[0m\u001b[37m\u001b[0m \u001b[1m0s\u001b[0m 13ms/step - loss: 0.0014 - mae: 0.0223\n",
      "Epoch 32/50\n",
      "\u001b[1m33/33\u001b[0m \u001b[32m━━━━━━━━━━━━━━━━━━━━\u001b[0m\u001b[37m\u001b[0m \u001b[1m0s\u001b[0m 12ms/step - loss: 0.0013 - mae: 0.0218\n",
      "Epoch 33/50\n",
      "\u001b[1m33/33\u001b[0m \u001b[32m━━━━━━━━━━━━━━━━━━━━\u001b[0m\u001b[37m\u001b[0m \u001b[1m0s\u001b[0m 13ms/step - loss: 0.0015 - mae: 0.0222\n",
      "Epoch 34/50\n",
      "\u001b[1m33/33\u001b[0m \u001b[32m━━━━━━━━━━━━━━━━━━━━\u001b[0m\u001b[37m\u001b[0m \u001b[1m0s\u001b[0m 12ms/step - loss: 0.0010 - mae: 0.0185    \n",
      "Epoch 35/50\n",
      "\u001b[1m33/33\u001b[0m \u001b[32m━━━━━━━━━━━━━━━━━━━━\u001b[0m\u001b[37m\u001b[0m \u001b[1m0s\u001b[0m 12ms/step - loss: 0.0018 - mae: 0.0244\n",
      "Epoch 36/50\n",
      "\u001b[1m33/33\u001b[0m \u001b[32m━━━━━━━━━━━━━━━━━━━━\u001b[0m\u001b[37m\u001b[0m \u001b[1m0s\u001b[0m 14ms/step - loss: 0.0012 - mae: 0.0205\n",
      "Epoch 37/50\n",
      "\u001b[1m33/33\u001b[0m \u001b[32m━━━━━━━━━━━━━━━━━━━━\u001b[0m\u001b[37m\u001b[0m \u001b[1m1s\u001b[0m 15ms/step - loss: 0.0020 - mae: 0.0267\n",
      "Epoch 38/50\n",
      "\u001b[1m33/33\u001b[0m \u001b[32m━━━━━━━━━━━━━━━━━━━━\u001b[0m\u001b[37m\u001b[0m \u001b[1m0s\u001b[0m 13ms/step - loss: 0.0017 - mae: 0.0232\n",
      "Epoch 39/50\n",
      "\u001b[1m33/33\u001b[0m \u001b[32m━━━━━━━━━━━━━━━━━━━━\u001b[0m\u001b[37m\u001b[0m \u001b[1m0s\u001b[0m 12ms/step - loss: 0.0015 - mae: 0.0225\n",
      "Epoch 40/50\n",
      "\u001b[1m33/33\u001b[0m \u001b[32m━━━━━━━━━━━━━━━━━━━━\u001b[0m\u001b[37m\u001b[0m \u001b[1m0s\u001b[0m 13ms/step - loss: 9.8870e-04 - mae: 0.0186\n",
      "Epoch 41/50\n",
      "\u001b[1m33/33\u001b[0m \u001b[32m━━━━━━━━━━━━━━━━━━━━\u001b[0m\u001b[37m\u001b[0m \u001b[1m0s\u001b[0m 12ms/step - loss: 0.0012 - mae: 0.0213\n",
      "Epoch 42/50\n",
      "\u001b[1m33/33\u001b[0m \u001b[32m━━━━━━━━━━━━━━━━━━━━\u001b[0m\u001b[37m\u001b[0m \u001b[1m0s\u001b[0m 12ms/step - loss: 0.0013 - mae: 0.0219\n",
      "Epoch 43/50\n",
      "\u001b[1m33/33\u001b[0m \u001b[32m━━━━━━━━━━━━━━━━━━━━\u001b[0m\u001b[37m\u001b[0m \u001b[1m0s\u001b[0m 13ms/step - loss: 0.0012 - mae: 0.0200\n",
      "Epoch 44/50\n",
      "\u001b[1m33/33\u001b[0m \u001b[32m━━━━━━━━━━━━━━━━━━━━\u001b[0m\u001b[37m\u001b[0m \u001b[1m0s\u001b[0m 12ms/step - loss: 0.0012 - mae: 0.0225\n",
      "Epoch 45/50\n",
      "\u001b[1m33/33\u001b[0m \u001b[32m━━━━━━━━━━━━━━━━━━━━\u001b[0m\u001b[37m\u001b[0m \u001b[1m0s\u001b[0m 13ms/step - loss: 0.0011 - mae: 0.0199\n",
      "Epoch 46/50\n",
      "\u001b[1m33/33\u001b[0m \u001b[32m━━━━━━━━━━━━━━━━━━━━\u001b[0m\u001b[37m\u001b[0m \u001b[1m0s\u001b[0m 13ms/step - loss: 0.0012 - mae: 0.0209\n",
      "Epoch 47/50\n",
      "\u001b[1m33/33\u001b[0m \u001b[32m━━━━━━━━━━━━━━━━━━━━\u001b[0m\u001b[37m\u001b[0m \u001b[1m0s\u001b[0m 12ms/step - loss: 0.0014 - mae: 0.0216\n",
      "Epoch 48/50\n",
      "\u001b[1m33/33\u001b[0m \u001b[32m━━━━━━━━━━━━━━━━━━━━\u001b[0m\u001b[37m\u001b[0m \u001b[1m0s\u001b[0m 12ms/step - loss: 0.0013 - mae: 0.0207\n",
      "Epoch 49/50\n",
      "\u001b[1m33/33\u001b[0m \u001b[32m━━━━━━━━━━━━━━━━━━━━\u001b[0m\u001b[37m\u001b[0m \u001b[1m0s\u001b[0m 14ms/step - loss: 0.0012 - mae: 0.0204\n",
      "Epoch 50/50\n",
      "\u001b[1m33/33\u001b[0m \u001b[32m━━━━━━━━━━━━━━━━━━━━\u001b[0m\u001b[37m\u001b[0m \u001b[1m0s\u001b[0m 12ms/step - loss: 0.0011 - mae: 0.0200\n"
     ]
    }
   ],
   "source": [
    "es = keras.callbacks.EarlyStopping (patience=2, verbose=1)\n",
    "logpath = 'tensorboard/covid19_latest/' + datetime.datetime.now().strftime('%Y-%m-%d_%H%M%S')\n",
    "tb= keras.callbacks.TensorBoard(logpath)\n",
    "history = model_lstm.fit(X_train, \n",
    "                        y_train, \n",
    "                        epochs= 50,\n",
    "                        batch_size=32,\n",
    "                        callbacks =[es, tb])"
   ]
  },
  {
   "cell_type": "code",
   "execution_count": 156,
   "metadata": {},
   "outputs": [
    {
     "name": "stdout",
     "output_type": "stream",
     "text": [
      "\u001b[1m21/21\u001b[0m \u001b[32m━━━━━━━━━━━━━━━━━━━━\u001b[0m\u001b[37m\u001b[0m \u001b[1m0s\u001b[0m 5ms/step\n"
     ]
    }
   ],
   "source": [
    "dataset_total = df.loc[:,'cases_new']\n",
    "inputs = dataset_total[len(dataset_total) - len(test_set) - n_steps :].values\n",
    "inputs = inputs.reshape(-1,1)\n",
    "# scaling\n",
    "inputs = sc.transform(inputs)\n",
    "\n",
    "# Split into samples\n",
    "X_test,y_test = split_sequence(inputs,n_steps)\n",
    "# reshape\n",
    "X_test = X_test.reshape(X_test.shape[0],X_test.shape[1],features)\n",
    "# predictions\n",
    "predicted_new_cases_covid_19 = model_lstm.predict(X_test)\n",
    "# inverse transform the values - undo the normalization of stock prices (undo any sklearn's transform)\n",
    "predicted_new_cases_covid_19 = sc.inverse_transform(predicted_new_cases_covid_19)"
   ]
  },
  {
   "cell_type": "code",
   "execution_count": 157,
   "metadata": {},
   "outputs": [],
   "source": [
    "def plot_predictions(test,predicted):\n",
    "    plt.plot(test,color='purple',label='Real')\n",
    "    plt.plot(predicted,color='gray',label='Predicted')\n",
    "    plt.title('Covid-19 cases Prediction')\n",
    "    plt.xlabel('Day')\n",
    "    plt.ylabel('Covid-19 cases')\n",
    "    plt.legend()\n",
    "    plt.show()\n",
    "\n",
    "def return_rmse(test,predicted):\n",
    "    rmse = np.sqrt(mean_squared_error(test,predicted))\n",
    "    print('The root mean square error is {:.2f}.'.format(rmse))"
   ]
  },
  {
   "cell_type": "code",
   "execution_count": 158,
   "metadata": {},
   "outputs": [
    {
     "data": {
      "image/png": "[encoded data removed]",
      "text/plain": [
       "<Figure size 640x480 with 1 Axes>"
      ]
     },
     "metadata": {},
     "output_type": "display_data"
    }
   ],
   "source": [
    "plot_predictions(test_set[-30:],predicted_new_cases_covid_19[-30:])"
   ]
  },
  {
   "cell_type": "code",
   "execution_count": 159,
   "metadata": {},
   "outputs": [
    {
     "name": "stdout",
     "output_type": "stream",
     "text": [
      "\u001b[1m21/21\u001b[0m \u001b[32m━━━━━━━━━━━━━━━━━━━━\u001b[0m\u001b[37m\u001b[0m \u001b[1m0s\u001b[0m 5ms/step - loss: 3.4777e-05 - mae: 0.0033 \n",
      "[4.2597959691192955e-05, 0.0033950326032936573]\n"
     ]
    }
   ],
   "source": [
    "#Evaluation of Model\n",
    "evaluation = model_lstm.evaluate(X_test,y_test)\n",
    "print(evaluation)"
   ]
  },
  {
   "cell_type": "code",
   "execution_count": 160,
   "metadata": {},
   "outputs": [
    {
     "name": "stdout",
     "output_type": "stream",
     "text": [
      "0.0033950326032936573\n"
     ]
    }
   ],
   "source": [
    "#MAE\n",
    "mae = evaluation[1]\n",
    "print(mae)"
   ]
  },
  {
   "cell_type": "code",
   "execution_count": 161,
   "metadata": {},
   "outputs": [
    {
     "name": "stdout",
     "output_type": "stream",
     "text": [
      "[0.03877073]\n"
     ]
    }
   ],
   "source": [
    "#MAPE\n",
    "\n",
    "mape = (mae/sum(abs(y_test))) * 100\n",
    "print(mape)"
   ]
  },
  {
   "cell_type": "code",
   "execution_count": 162,
   "metadata": {},
   "outputs": [
    {
     "name": "stdout",
     "output_type": "stream",
     "text": [
      "The root mean square error is 218.03.\n",
      "None\n"
     ]
    }
   ],
   "source": [
    "\n",
    "#RMSE\n",
    "print(return_rmse(test_set,predicted_new_cases_covid_19))"
   ]
  }
 ],
 "metadata": {
  "kernelspec": {
   "display_name": "Python 3",
   "language": "python",
   "name": "python3"
  },
  "language_info": {
   "codemirror_mode": {
    "name": "ipython",
    "version": 3
   },
   "file_extension": ".py",
   "mimetype": "text/x-python",
   "name": "python",
   "nbconvert_exporter": "python",
   "pygments_lexer": "ipython3",
   "version": "3.12.7"
  }
 },
 "nbformat": 4,
 "nbformat_minor": 2
}
